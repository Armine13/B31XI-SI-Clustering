{
 "metadata": {
  "name": ""
 },
 "nbformat": 3,
 "nbformat_minor": 0,
 "worksheets": [
  {
   "cells": [
    {
     "cell_type": "heading",
     "level": 1,
     "metadata": {},
     "source": [
      "Pattern Recognition - ViBOT MsCV"
     ]
    },
    {
     "cell_type": "markdown",
     "metadata": {},
     "source": [
      "Guillaume Lemaitre - Fabrice Meriaudeau - Johan Massich"
     ]
    },
    {
     "cell_type": "heading",
     "level": 1,
     "metadata": {},
     "source": [
      "Clustering"
     ]
    },
    {
     "cell_type": "code",
     "collapsed": false,
     "input": [
      "\n",
      "%matplotlib inline\n",
      "%pprint off\n",
      "\n",
      "# Matplotlib library\n",
      "from mpl_toolkits.mplot3d import Axes3D\n",
      "from matplotlib import cm\n",
      "from matplotlib.ticker import LinearLocator, FormatStrFormatter\n",
      "import matplotlib.pyplot as plt\n",
      "\n",
      "# MPLD3 extension\n",
      "import mpld3\n",
      "\n",
      "# Numpy library\n",
      "import numpy as np\n",
      "\n",
      "# Import the Scipy library for griddata\n",
      "from scipy.interpolate import griddata\n"
     ],
     "language": "python",
     "metadata": {},
     "outputs": []
    },
    {
     "cell_type": "markdown",
     "metadata": {},
     "source": [
      "Import the library to perform the clustering with k-means and fuzzy c-means."
     ]
    },
    {
     "cell_type": "code",
     "collapsed": false,
     "input": [
      "\n",
      "# Import k-means clustering method from scikit-learn\n",
      "from sklearn.cluster import KMeans\n",
      "# Import fuzzy c-means from scikit-fuzzy\n",
      "import skfuzzy as fuzz\n"
     ],
     "language": "python",
     "metadata": {},
     "outputs": []
    },
    {
     "cell_type": "markdown",
     "metadata": {},
     "source": [
      "Assuming the following generated points:\n",
      "\n",
      "* Two classes with respective labels 0 and 1,\n",
      "* Class #1 follows with labels 0 a multivariate normal distribution with:\n",
      "\n",
      "$$\\mu_1 = \\left[ 1, 1 \\right]$$\n",
      "\n",
      "$$\\Sigma_1 = \\left[ \\begin{matrix} 1 && 0 \\\\ 0 && 1 \\end{matrix} \\right]$$\n",
      "\n",
      "* Class #2 with labels 1 follows a multivariate normal distribution with:\n",
      "\n",
      "$$\\mu_2 = \\left[ -1, -1 \\right]$$\n",
      "\n",
      "$$\\Sigma_2 = \\left[ \\begin{matrix} 1 && 0 \\\\ 0 && 1 \\end{matrix} \\right]$$"
     ]
    },
    {
     "cell_type": "code",
     "collapsed": false,
     "input": [
      "\n",
      "# Size of points in the dataset\n",
      "N = 1000\n",
      "\n",
      "# Define the property of the gaussian distribution\n",
      "mean1, mean2 = np.array([1., 1.]), np.array([-1., -1.])\n",
      "cov1, cov2 = np.diagflat([1, 1]), np.diagflat([1, 1])\n",
      "\n",
      "class_1 = np.random.multivariate_normal(mean1, cov1, N / 2)\n",
      "class_2 = np.random.multivariate_normal(mean2, cov2, N / 2)\n",
      "\n",
      "data = np.concatenate((class_1, class_2), axis=0)\n",
      "gt = np.squeeze(np.concatenate((np.zeros((1, N / 2), dtype = int), np.ones((1, N / 2), dtype = int)), axis = 1))\n",
      "\n",
      "fig = plt.figure()\n",
      "# Find the indexes of the first cluster\n",
      "plt.plot(class_1[:, 0], class_1[:, 1], 'xb', label='Cluster #1')\n",
      "plt.plot(class_2[:, 0], class_2[:, 1], 'xr', label='Cluster #2')\n",
      "plt.legend()\n",
      "# Show the figure\n",
      "mpld3.display(fig)\n"
     ],
     "language": "python",
     "metadata": {},
     "outputs": []
    },
    {
     "cell_type": "heading",
     "level": 3,
     "metadata": {},
     "source": [
      "Clustering via k-means"
     ]
    },
    {
     "cell_type": "markdown",
     "metadata": {},
     "source": [
      "(a) Use k-means clustering method to find the cluster centers for $k=2$. To do so, you will:\n",
      "\n",
      "* Call the constructor KMeans(),\n",
      "* Use the function predict of the object build in order to apply the clustering,\n",
      "* Get the centers of each cluster,\n",
      "* Display these centers."
     ]
    },
    {
     "cell_type": "code",
     "collapsed": false,
     "input": [
      " \n",
      "# Define the number of clusters k\n",
      "k = 2\n",
      "\n",
      "# Define the parameters of k-means\n",
      "### use init 'random' and only one try\n",
      "k_means_cluster = KMeans(...)\n",
      "# Run k-means\n",
      "### Use the function predict()\n",
      "...\n",
      "# Get the centers of k-means\n",
      "centers_k_means = ...\n",
      "\n",
      "print 'The centers found by k-means are \\n {}'.format(centers_k_means)\n"
     ],
     "language": "python",
     "metadata": {},
     "outputs": []
    },
    {
     "cell_type": "markdown",
     "metadata": {},
     "source": [
      "(b) Plot the cluster centers and the data labelled by the k-means fitting."
     ]
    },
    {
     "cell_type": "code",
     "collapsed": false,
     "input": [
      "..."
     ],
     "language": "python",
     "metadata": {},
     "outputs": []
    },
    {
     "cell_type": "markdown",
     "metadata": {},
     "source": [
      "(c) Complete the following function to compute the misclassification rate."
     ]
    },
    {
     "cell_type": "code",
     "collapsed": false,
     "input": [
      "\n",
      "# Compute the misclassification rate\n",
      "def compute_error_rate(k_means_labels, gt_labels):\n",
      "    ### Use the function nonzero()\n",
      "    return float(np.size(np.nonzero(np.squeeze(k_means_labels != gt_labels)))) / float(np.size(gt_labels)) * 100.\n"
     ],
     "language": "python",
     "metadata": {},
     "outputs": []
    },
    {
     "cell_type": "markdown",
     "metadata": {},
     "source": [
      "(d) What is the misclassification for the current fitting? Highlight inside a plot the element which have been misclasified. \n",
      "\n",
      "**Hint**: think at swapping the label if the error rate is really high. The label affected is performed in an unsupervised manner."
     ]
    },
    {
     "cell_type": "code",
     "collapsed": false,
     "input": [
      "\n",
      "# Show the misclassification rate\n",
      "print 'The error rate is {} %'.format(...) \n",
      "\n",
      "# Plot the misclassified samples\n",
      "# Find the samples\n",
      "idx_wellclass = ...\n",
      "idx_misclass = ...\n",
      "\n",
      "# Maybe we have to swap the cluster\n",
      "if (np.size(idx_misclass) > np.size(idx_wellclass)):\n",
      "    tmp = idx_wellclass[:]\n",
      "    idx_wellclass = idx_misclass[:]\n",
      "    idx_misclass = tmp[:]\n",
      "    del tmp\n",
      "    \n",
      "# Get the data\n",
      "data_wellclass = ...\n",
      "data_misclass = ...\n",
      "\n",
      "# Make the plot\n",
      "fig = plt.figure()\n",
      "# Find the indexes of the first cluster\n",
      "legend_tptn = ...\n",
      "legend_fpfn = ...\n",
      "plt.legend([legend_tptn[0], legend_fpfn[0]], [\"TP & TN\", \"FP & FN\"])\n",
      "# Show the figure\n",
      "mpld3.display(fig)\n"
     ],
     "language": "python",
     "metadata": {},
     "outputs": []
    },
    {
     "cell_type": "markdown",
     "metadata": {},
     "source": [
      "(e) Repeat 10 times the k-means fitting and compute the mean error."
     ]
    },
    {
     "cell_type": "code",
     "collapsed": false,
     "input": [
      "\n",
      "# Define the number of repetitions\n",
      "rep_t = 10\n",
      "\n",
      "# Accumulate the error\n",
      "acc_err = 0.\n",
      "for rep in range(0, 10):\n",
      "    # Run k-means predict()\n",
      "    ...\n",
      "    # Check the error and accumulate\n",
      "    acc_err += np.minimum(...)\n",
      "    print 'The error rate is {} %'.format(...) \n",
      "    \n",
      "# Average the error\n",
      "acc_err ...\n",
      "\n",
      "# Show the mean misclassification rate\n",
      "print 'The mean error rate is {} %'.format(acc_err)\n"
     ],
     "language": "python",
     "metadata": {},
     "outputs": []
    },
    {
     "cell_type": "heading",
     "level": 3,
     "metadata": {},
     "source": [
      "Clustering via fuzzy c-means"
     ]
    },
    {
     "cell_type": "markdown",
     "metadata": {},
     "source": [
      "(a) Use fuzzy c-means clustering method to find the cluster centers for $c=2$. Check the following link for an example:\n",
      "https://github.com/scikit-fuzzy/scikit-fuzzy/blob/master/skfuzzy/cluster/tests/test_cmeans.py"
     ]
    },
    {
     "cell_type": "code",
     "collapsed": false,
     "input": [
      "\n",
      "# Define the number of clusters\n",
      "c = 2\n",
      "# Exponentiation parameter\n",
      "m = 2.\n",
      "\n",
      "# Run the fuzzy c-means - need to transpose the data\n",
      "...\n"
     ],
     "language": "python",
     "metadata": {},
     "outputs": []
    },
    {
     "cell_type": "markdown",
     "metadata": {},
     "source": [
      "(b) Plot the cluster centers and the membership degree of the data to each one of the two clusters."
     ]
    },
    {
     "cell_type": "code",
     "collapsed": false,
     "input": [
      "\n",
      "# Plot a representation depending of the membership\n",
      "### Create a mesh grid using np.grid()\n",
      "grid_x, grid_y = np.mgrid[-4.:5.:200j, -4.:5.:200j]\n",
      "### Use the function griddata() in order to create the surface based on the membership degree \n",
      "grid_z0 = griddata(...)\n",
      "grid_z1 = griddata(...)\n",
      "fig = plt.figure()\n",
      "plt.imshow(grid_z0.T, extent=(-4,5,-4,5), origin='lower')\n",
      "plt.title('Membership to belong to the class #1')\n",
      "plt.figure()\n",
      "plt.imshow(grid_z1.T, extent=(-4,5,-4,5), origin='lower')\n",
      "plt.title('Membership to belong to the class #2')\n",
      "plt.show()\n"
     ],
     "language": "python",
     "metadata": {},
     "outputs": []
    },
    {
     "cell_type": "markdown",
     "metadata": {},
     "source": [
      "(c) Plot in each data point to the most probable cluster to which it will belongs. Plot also the centroids."
     ]
    },
    {
     "cell_type": "code",
     "collapsed": false,
     "input": [
      "..."
     ],
     "language": "python",
     "metadata": {},
     "outputs": []
    },
    {
     "cell_type": "markdown",
     "metadata": {},
     "source": [
      "(d) Compute the misclassifcation error rate."
     ]
    },
    {
     "cell_type": "code",
     "collapsed": false,
     "input": [
      "..."
     ],
     "language": "python",
     "metadata": {},
     "outputs": []
    },
    {
     "cell_type": "heading",
     "level": 2,
     "metadata": {},
     "source": [
      "Retina segmentation using k-means and fuzzy c-means"
     ]
    },
    {
     "cell_type": "code",
     "collapsed": false,
     "input": [
      "\n",
      "# Import scikit-image for input-output manipulation\n",
      "from skimage import io\n",
      "from skimage import img_as_float\n"
     ],
     "language": "python",
     "metadata": {},
     "outputs": []
    },
    {
     "cell_type": "markdown",
     "metadata": {},
     "source": [
      "Assuming that the image can be clustered with four classes:\n",
      "\n",
      "* One cluster with artefacts at the edges of the image\n",
      "* One cluster with the optic nerve and other artefacts\n",
      "* One cluster with noise across the image\n",
      "* One cluster with the vessels"
     ]
    },
    {
     "cell_type": "code",
     "collapsed": false,
     "input": [
      "\n",
      "# Number of classes\n",
      "nb_classes = 4\n"
     ],
     "language": "python",
     "metadata": {},
     "outputs": []
    },
    {
     "cell_type": "markdown",
     "metadata": {},
     "source": [
      "(a) From the `data` folder, load the retina image `retina.jpg`. Convert it into float type."
     ]
    },
    {
     "cell_type": "code",
     "collapsed": false,
     "input": [
      "\n",
      "# Load the images\n",
      "# Use the function img_as_float()\n",
      "# Use the function io.imread()\n",
      "retina_im = ...\n",
      "\n",
      "# Show the results\n",
      "fig, ax = plt.subplots()\n",
      "ax.imshow(retina_im)\n",
      "ax.set_title('Original image')\n",
      "ax.axis('off')\n",
      "\n",
      "plt.show()\n"
     ],
     "language": "python",
     "metadata": {},
     "outputs": []
    },
    {
     "cell_type": "markdown",
     "metadata": {},
     "source": [
      "(b) Complete the following Python function. \n",
      "\n",
      "* Compute a background image using a median filtering for each colour channel with a square kernel of size 30. \n",
      "* Subtract each background channel to the original channel. \n",
      "* Normalise each channel using min-max normalisation."
     ]
    },
    {
     "cell_type": "code",
     "collapsed": false,
     "input": [
      "\n",
      "# Import morpho element\n",
      "from skimage.morphology import square\n",
      "# Import the median filtering\n",
      "from skimage.filter.rank import median\n",
      "\n",
      "# Function to pre process the images\n",
      "def PreProcessing(rgb_image):\n",
      "    output = np.zeros(np.shape(rgb_image))\n",
      "    \n",
      "    # Obtain the background image for each channel through median filtering\n",
      "    background_im_r = ...\n",
      "    background_im_g = ...\n",
      "    background_im_b = ...\n",
      "    \n",
      "    # Remove the background to the original channels\n",
      "    output[:, :, 0] = ...\n",
      "    output[:, :, 1] = ...\n",
      "    output[:, :, 2] = ...\n",
      "    \n",
      "    # Normalise the image\n",
      "    output[:, :, 0] = normalise_im(...)\n",
      "    output[:, :, 1] = normalise_im(...)\n",
      "    output[:, :, 2] = normalise_im(...)\n",
      "    \n",
      "    return output\n",
      "\n",
      "# Function to apply min-max normalisation\n",
      "def normalise_im(im_2d):\n",
      "    return ...\n"
     ],
     "language": "python",
     "metadata": {},
     "outputs": []
    },
    {
     "cell_type": "markdown",
     "metadata": {},
     "source": [
      "(c) Apply the pre-processing to retina image and plot the resulting image."
     ]
    },
    {
     "cell_type": "code",
     "collapsed": false,
     "input": [
      "..."
     ],
     "language": "python",
     "metadata": {},
     "outputs": []
    },
    {
     "cell_type": "markdown",
     "metadata": {},
     "source": [
      "(d) Extract the characteristic features from the pre-processed image."
     ]
    },
    {
     "cell_type": "code",
     "collapsed": false,
     "input": [
      "\n",
      "# Extraction of the data\n",
      "### You can use np.reshape()\n",
      "data = ...\n"
     ],
     "language": "python",
     "metadata": {},
     "outputs": []
    },
    {
     "cell_type": "markdown",
     "metadata": {},
     "source": [
      "(e) Run k-means with 10 iterations and `k-means++` as initialisation of the cluster."
     ]
    },
    {
     "cell_type": "code",
     "collapsed": false,
     "input": [
      "..."
     ],
     "language": "python",
     "metadata": {},
     "outputs": []
    },
    {
     "cell_type": "markdown",
     "metadata": {},
     "source": [
      "(f) Plot each cluster to observe the segmentation."
     ]
    },
    {
     "cell_type": "code",
     "collapsed": false,
     "input": [
      "..."
     ],
     "language": "python",
     "metadata": {},
     "outputs": []
    },
    {
     "cell_type": "markdown",
     "metadata": {},
     "source": [
      "(g) Run fuzzy c-means."
     ]
    },
    {
     "cell_type": "code",
     "collapsed": false,
     "input": [
      "..."
     ],
     "language": "python",
     "metadata": {},
     "outputs": []
    },
    {
     "cell_type": "markdown",
     "metadata": {},
     "source": [
      "(h) Plot the degree of membership for each cluster to depict the segmentation."
     ]
    },
    {
     "cell_type": "code",
     "collapsed": false,
     "input": [
      "..."
     ],
     "language": "python",
     "metadata": {},
     "outputs": []
    }
   ],
   "metadata": {}
  }
 ]
}